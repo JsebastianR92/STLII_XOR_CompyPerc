{
 "cells": [
  {
   "cell_type": "markdown",
   "metadata": {},
   "source": [
    "### Sebastián Rodríguez\n",
    "### 20003076\n",
    "\n",
    "                                        # XOR - Compuertas y perceptrones"
   ]
  },
  {
   "cell_type": "code",
   "execution_count": 3,
   "metadata": {},
   "outputs": [],
   "source": [
    "import numpy as np"
   ]
  },
  {
   "cell_type": "code",
   "execution_count": 4,
   "metadata": {},
   "outputs": [
    {
     "data": {
      "text/plain": [
       "array([1.])"
      ]
     },
     "execution_count": 4,
     "metadata": {},
     "output_type": "execute_result"
    }
   ],
   "source": [
    "def Activacion(z):\n",
    "    return (z >= 0).astype(np.float)\n",
    "Activacion(np.array([1]))"
   ]
  },
  {
   "cell_type": "code",
   "execution_count": 5,
   "metadata": {},
   "outputs": [],
   "source": [
    "def Transf(x, Pesos):\n",
    "    return np.matmul(x, Pesos)\n",
    "\n",
    "Transf(np.array([1, 1, 1.]), np.array([1.,1.,-2.]))\n",
    "\n",
    "def perceptron(x, Pesos):\n",
    "    x = np.column_stack((x, np.ones(x.shape[0])))\n",
    "    return Activacion(Transf(x, Pesos)).reshape(-1, 1)"
   ]
  },
  {
   "cell_type": "code",
   "execution_count": 8,
   "metadata": {},
   "outputs": [],
   "source": [
    "X = np.array([[0., 0.], [0., 1.], [1., 0.], [1., 1.]])\n",
    "perceptron(X, np.array([1., 1., 0]))\n",
    "\n",
    "Pesos = np.array([10., 10., -15.])\n",
    "and_ = perceptron(X, Pesos)\n",
    "\n",
    "\n",
    "Pesos = np.array([20., 20., -10.])\n",
    "or_ = perceptron(np.array(X), Pesos)\n",
    "\n",
    "Y = np.array([0, 1]).reshape(-1, 1)\n",
    "Pesos = np.array([-1., 0.5])\n",
    "not_ = perceptron(np.array(Y), Pesos)\n"
   ]
  },
  {
   "cell_type": "code",
   "execution_count": 11,
   "metadata": {},
   "outputs": [],
   "source": [
    "Funcion_XOR = lambda a, b : or_fn( and_fn(a, not_fn(b)), and_fn(not_fn(a), b) )\n",
    "\n",
    "and_fn = lambda a, b : perceptron(np.column_stack((a, b)), np.array([10., 10., -15.]))\n",
    "or_fn = lambda a, b : perceptron(np.column_stack((a, b)), np.array([20., 20., -10.]))\n",
    "not_fn = lambda x : perceptron(x, np.array([-1., 0.5]))\n"
   ]
  },
  {
   "cell_type": "code",
   "execution_count": 13,
   "metadata": {},
   "outputs": [
    {
     "name": "stdout",
     "output_type": "stream",
     "text": [
      "Entradas:\n",
      "[[0. 0.]\n",
      " [0. 1.]\n",
      " [1. 0.]\n",
      " [1. 1.]]\n",
      "Función lógica XOR: \n",
      "[[0.]\n",
      " [1.]\n",
      " [1.]\n",
      " [0.]]\n"
     ]
    }
   ],
   "source": [
    "print(\"Entradas:\")\n",
    "print(X)\n",
    "print(\"Función lógica XOR: \")\n",
    "print(Funcion_XOR(X[:, 0], X[:, 1]))"
   ]
  }
 ],
 "metadata": {
  "kernelspec": {
   "display_name": "Python 3",
   "language": "python",
   "name": "python3"
  },
  "language_info": {
   "codemirror_mode": {
    "name": "ipython",
    "version": 3
   },
   "file_extension": ".py",
   "mimetype": "text/x-python",
   "name": "python",
   "nbconvert_exporter": "python",
   "pygments_lexer": "ipython3",
   "version": "3.7.4"
  }
 },
 "nbformat": 4,
 "nbformat_minor": 2
}
