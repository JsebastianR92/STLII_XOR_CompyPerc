{
 "cells": [
  {
   "cell_type": "markdown",
   "metadata": {},
   "source": [
    "### Sebastián Rodríguez\n",
    "### 20003076\n",
    "\n",
    "                                        # XOR - Composición y perceptrones"
   ]
  },
  {
   "cell_type": "code",
   "execution_count": 15,
   "metadata": {},
   "outputs": [],
   "source": [
    "import numpy as np\n",
    "import matplotlib.pyplot as plt"
   ]
  },
  {
   "cell_type": "code",
   "execution_count": 24,
   "metadata": {},
   "outputs": [],
   "source": [
    "def Heavyside(x):\n",
    "    return (x >= 0).astype(np.float)\n",
    "\n",
    "def Bias(x):\n",
    "    return np.vstack((x, np.ones(x.shape[1])))\n",
    "\n",
    "def sigmoide(x):\n",
    "    return 1/(1+np.exp(-x))"
   ]
  },
  {
   "cell_type": "code",
   "execution_count": 27,
   "metadata": {},
   "outputs": [],
   "source": [
    "x = np.array([1, 0]).reshape(-1, 1)\n",
    "Peso1 = np.array([[20., 20., -10.], [-20., -20., 30.]])\n",
    "M1M = np.matmul(Peso1, Bias(x))\n",
    "Act1 = Heavyside(M1M)\n",
    "Peso2 = np.array([[20, 20, -30]])\n",
    "M2M = np.matmul(Peso2, Bias(Act1))\n",
    "Act2 = Heavyside(M2M)\n"
   ]
  },
  {
   "cell_type": "code",
   "execution_count": 26,
   "metadata": {},
   "outputs": [],
   "source": [
    "def F_XOR(x, activation=Heavyside, retHidden=False):\n",
    "\n",
    "    Peso1 = np.array([[20., 20., -10.], [-20., -20., 30.]])\n",
    "    Peso2 = np.array([[20, 20, -30]])\n",
    "    M1M = np.matmul(Peso1, Bias(x))\n",
    "    Act1 = activation(M1M)\n",
    "    M2M = np.matmul(Peso2, Bias(Act1))\n",
    "    y = activation(M2M)    \n",
    "    if retHidden:\n",
    "        return y, Act1\n",
    "    return y\n"
   ]
  },
  {
   "cell_type": "code",
   "execution_count": 19,
   "metadata": {},
   "outputs": [
    {
     "data": {
      "text/plain": [
       "(array([[0, 0, 1, 1],\n",
       "        [0, 1, 0, 1]]), (2, 4))"
      ]
     },
     "execution_count": 19,
     "metadata": {},
     "output_type": "execute_result"
    }
   ],
   "source": [
    "X = np.array([[0,0], [0,1], [1,0], [1,1]])\n",
    "X = X.T\n",
    "X, X.shape"
   ]
  },
  {
   "cell_type": "code",
   "execution_count": 20,
   "metadata": {},
   "outputs": [
    {
     "data": {
      "text/plain": [
       "array([[4.54391049e-05, 9.99954520e-01, 9.99954520e-01, 4.54391049e-05]])"
      ]
     },
     "execution_count": 20,
     "metadata": {},
     "output_type": "execute_result"
    }
   ],
   "source": [
    "F_XOR(X)\n",
    "F_XOR(X, activation=sigmoide)"
   ]
  },
  {
   "cell_type": "code",
   "execution_count": 21,
   "metadata": {},
   "outputs": [
    {
     "data": {
      "text/plain": [
       "array([[1],\n",
       "       [0]])"
      ]
     },
     "execution_count": 21,
     "metadata": {},
     "output_type": "execute_result"
    }
   ],
   "source": [
    "_, h = F_XOR(X, retHidden=True)\n",
    "h\n",
    "\n",
    "x\n"
   ]
  },
  {
   "cell_type": "code",
   "execution_count": 22,
   "metadata": {},
   "outputs": [],
   "source": [
    "def Grafica(x1, x2, y):\n",
    "    f = np.abs(y-1) < 0.1\n",
    "    nf = np.logical_not(f)\n",
    "\n",
    "    plt.scatter(x1[f], x2[f], marker='*', label='1')\n",
    "    plt.scatter(x1[nf], x2[nf], marker='o', label='0')\n",
    "    plt.legend()"
   ]
  },
  {
   "cell_type": "code",
   "execution_count": 28,
   "metadata": {},
   "outputs": [
    {
     "data": {
      "image/png": "[encoded data removed]",
      "text/plain": [
       "<Figure size 1152x288 with 3 Axes>"
      ]
     },
     "metadata": {
      "needs_background": "light"
     },
     "output_type": "display_data"
    }
   ],
   "source": [
    "x1 = X[0, :]\n",
    "x2 = X[1, :]\n",
    "\n",
    "plt.figure(figsize=(16, 4))\n",
    "plt.subplot(1,3,1)\n",
    "Grafica(x1, x2, h[0, :])\n",
    "plt.title(\"Activación 1\")\n",
    "plt.subplot(1,3,2)\n",
    "Grafica(x1, x2, h[1, :])\n",
    "plt.title(\"Activación 2\")\n",
    "plt.subplot(1,3,3)\n",
    "Grafica(x1, x2, F_XOR(X).squeeze())\n",
    "plt.title(\"Salida\");"
   ]
  },
  {
   "cell_type": "code",
   "execution_count": null,
   "metadata": {},
   "outputs": [],
   "source": []
  }
 ],
 "metadata": {
  "kernelspec": {
   "display_name": "Python 3",
   "language": "python",
   "name": "python3"
  },
  "language_info": {
   "codemirror_mode": {
    "name": "ipython",
    "version": 3
   },
   "file_extension": ".py",
   "mimetype": "text/x-python",
   "name": "python",
   "nbconvert_exporter": "python",
   "pygments_lexer": "ipython3",
   "version": "3.7.4"
  }
 },
 "nbformat": 4,
 "nbformat_minor": 2
}
